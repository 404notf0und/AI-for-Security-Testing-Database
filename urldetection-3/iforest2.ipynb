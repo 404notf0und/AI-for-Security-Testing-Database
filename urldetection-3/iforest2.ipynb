{
 "cells": [
  {
   "cell_type": "code",
   "execution_count": 1,
   "metadata": {},
   "outputs": [],
   "source": [
    "#init\n",
    "import pandas as pd\n",
    "import numpy as np\n",
    "import matplotlib.pyplot as plt\n",
    "from sklearn.model_selection import train_test_split\n",
    "from sklearn.feature_extraction.text import TfidfVectorizer\n",
    "from sklearn.ensemble import IsolationForest\n",
    "from sklearn.metrics import confusion_matrix\n",
    "import itertools\n",
    "from sklearn.metrics import accuracy_score\n",
    "from sklearn.neighbors import LocalOutlierFactor\n",
    "from sklearn.svm import OneClassSVM"
   ]
  },
  {
   "cell_type": "code",
   "execution_count": 2,
   "metadata": {},
   "outputs": [],
   "source": [
    "#data\n",
    "good_data=pd.read_csv('good_url.csv',names=['url'],nrows=300000)\n",
    "good_data['label']=0\n",
    "data=good_data"
   ]
  },
  {
   "cell_type": "code",
   "execution_count": 3,
   "metadata": {},
   "outputs": [],
   "source": [
    "##feature\n",
    "X_train, X_test, y_train, y_test = train_test_split(data['url'].values, data['label'].values, test_size=0.2, random_state=42) #splitting data\n",
    "vectorizer = TfidfVectorizer(min_df = 0.0, analyzer=\"char\", sublinear_tf=True, ngram_range=(1,3)) #converting data to vectors\n",
    "X_train = vectorizer.fit_transform(X_train)\n",
    "X_test = vectorizer.transform(X_test)"
   ]
  },
  {
   "cell_type": "code",
   "execution_count": 4,
   "metadata": {},
   "outputs": [
    {
     "data": {
      "text/plain": [
       "((240000, 56398), (240000,), (60000, 56398), (60000,))"
      ]
     },
     "execution_count": 4,
     "metadata": {},
     "output_type": "execute_result"
    }
   ],
   "source": [
    "X_train.shape,y_train.shape,X_test.shape,y_test.shape"
   ]
  },
  {
   "cell_type": "code",
   "execution_count": null,
   "metadata": {},
   "outputs": [
    {
     "name": "stderr",
     "output_type": "stream",
     "text": [
      "/usr/local/anaconda3/lib/python3.7/site-packages/sklearn/ensemble/iforest.py:213: FutureWarning: default contamination parameter 0.1 will change in version 0.22 to \"auto\". This will change the predict method behavior.\n",
      "  FutureWarning)\n",
      "/usr/local/anaconda3/lib/python3.7/site-packages/sklearn/ensemble/iforest.py:223: FutureWarning: behaviour=\"old\" is deprecated and will be removed in version 0.22. Please use behaviour=\"new\", which makes the decision_function change to match other anomaly detection algorithm API.\n",
      "  FutureWarning)\n"
     ]
    }
   ],
   "source": [
    "#trainning\n",
    "clf=IsolationForest()\n",
    "clf.fit(X_train)\n",
    "y_pre = clf.predict(X_test)"
   ]
  },
  {
   "cell_type": "code",
   "execution_count": null,
   "metadata": {},
   "outputs": [],
   "source": [
    "#confusion_matrix\n",
    "ny_pre = np.asarray(y_pre)\n",
    "ny_pre[ny_pre==1] = 0\n",
    "ny_pre[ny_pre==-1] = 1\n",
    "\n",
    "ny_test = np.asarray(y_test)\n",
    "\n",
    "class_names = ['normal','dangours']\n",
    "print(accuracy_score(ny_test,ny_pre))\n",
    "cnf_matrix = confusion_matrix(ny_test, ny_pre) \n",
    "print(cnf_matrix)"
   ]
  },
  {
   "cell_type": "code",
   "execution_count": null,
   "metadata": {},
   "outputs": [],
   "source": [
    "#tesing\n",
    "bad_data=pd.read_csv('bad_test.csv',names=['url'])\n",
    "bad_data['label']=1\n",
    "good_data=pd.read_csv('good_test.csv',names=['url'])\n",
    "good_data['label']=0\n",
    "data=pd.concat([good_data,bad_data]).reset_index(drop=True)\n"
   ]
  },
  {
   "cell_type": "code",
   "execution_count": null,
   "metadata": {},
   "outputs": [],
   "source": [
    "X = vectorizer.transform(data['url'].values.astype('U'))\n",
    "#X=svd.fit_transform(X)\n",
    "#X = pd.DataFrame(X, columns = ['feature1', 'feature2'])\n",
    "y_pre = clf.predict(X)\n",
    "y=data['label'].values\n",
    "ny_pre = np.asarray(y_pre)\n",
    "ny_pre[ny_pre==1] = 0\n",
    "ny_pre[ny_pre==-1] = 1\n",
    "ny_test = np.asarray(y)\n",
    "print(accuracy_score(y,ny_pre))\n",
    "cnf_matrix = confusion_matrix(ny_test, ny_pre) \n",
    "print(cnf_matrix)"
   ]
  },
  {
   "cell_type": "code",
   "execution_count": null,
   "metadata": {},
   "outputs": [],
   "source": [
    "#误报漏报再分析\n",
    "print('False positives')\n",
    "print(data[(y == 0) & (y_pre == 1)])\n",
    "print('False negatives')\n",
    "print(data[(y == 1) & (y_pre == 0)])"
   ]
  },
  {
   "cell_type": "code",
   "execution_count": null,
   "metadata": {},
   "outputs": [],
   "source": [
    "clf = LocalOutlierFactor(n_neighbors=20,novelty=True)\n",
    "clf.fit(X_train)\n",
    "y_pred = clf.predict(X_test)"
   ]
  },
  {
   "cell_type": "code",
   "execution_count": null,
   "metadata": {},
   "outputs": [],
   "source": [
    "#confusion_matrix\n",
    "ny_pred = np.asarray(y_pred)\n",
    "ny_pred[ny_pred==1] = 0\n",
    "ny_pred[ny_pred==-1] = 1\n",
    "\n",
    "ny_test = np.asarray(y_test)\n",
    "\n",
    "class_names = ['normal','dangours']\n",
    "cnf_matrix = confusion_matrix(ny_test, ny_pred) \n",
    "print(cnf_matrix)"
   ]
  },
  {
   "cell_type": "code",
   "execution_count": null,
   "metadata": {},
   "outputs": [],
   "source": [
    "#tesing\n",
    "bad_data=pd.read_csv('bad_test.csv',names=['url'])\n",
    "bad_data['label']=1\n",
    "good_data=pd.read_csv('good_test.csv',names=['url'])\n",
    "good_data['label']=0\n",
    "data=pd.concat([good_data,bad_data]).reset_index(drop=True)\n",
    "X = vectorizer.transform(data['url'].values.astype('U'))\n",
    "#X=svd.fit_transform(X)\n",
    "#X = pd.DataFrame(X, columns = ['feature1', 'feature2'])\n",
    "y_pre = clf.predict(X)\n",
    "y=data['label'].values\n",
    "ny_pre = np.asarray(y_pre)\n",
    "ny_pre[ny_pre==1] = 0\n",
    "ny_pre[ny_pre==-1] = 1\n",
    "ny_test = np.asarray(y)\n",
    "print(accuracy_score(y,ny_pre))\n",
    "cnf_matrix = confusion_matrix(ny_test, ny_pre) \n",
    "print(cnf_matrix)"
   ]
  },
  {
   "cell_type": "code",
   "execution_count": null,
   "metadata": {},
   "outputs": [],
   "source": [
    "#误报漏报再分析\n",
    "print('False positives')\n",
    "print(data[(y_bad == 0) & (y_pre == 1)])\n",
    "print('False negatives')\n",
    "print(data[(y_bad == 1) & (y_pre == 0)])"
   ]
  },
  {
   "cell_type": "code",
   "execution_count": null,
   "metadata": {},
   "outputs": [],
   "source": []
  },
  {
   "cell_type": "code",
   "execution_count": null,
   "metadata": {},
   "outputs": [],
   "source": []
  }
 ],
 "metadata": {
  "kernelspec": {
   "display_name": "Python 3",
   "language": "python",
   "name": "python3"
  },
  "language_info": {
   "codemirror_mode": {
    "name": "ipython",
    "version": 3
   },
   "file_extension": ".py",
   "mimetype": "text/x-python",
   "name": "python",
   "nbconvert_exporter": "python",
   "pygments_lexer": "ipython3",
   "version": "3.7.3"
  }
 },
 "nbformat": 4,
 "nbformat_minor": 2
}
