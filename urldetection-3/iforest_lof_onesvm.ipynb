{
 "cells": [
  {
   "cell_type": "code",
   "execution_count": 37,
   "metadata": {},
   "outputs": [],
   "source": [
    "#init\n",
    "import pandas as pd\n",
    "import numpy as np\n",
    "import matplotlib.pyplot as plt\n",
    "from sklearn.model_selection import train_test_split\n",
    "from sklearn.feature_extraction.text import TfidfVectorizer\n",
    "from sklearn.ensemble import IsolationForest\n",
    "from sklearn.metrics import confusion_matrix\n",
    "import itertools\n",
    "from sklearn.metrics import accuracy_score\n",
    "from sklearn.neighbors import LocalOutlierFactor\n",
    "from sklearn.svm import OneClassSVM\n",
    "import warnings\n",
    "from sklearn.decomposition import TruncatedSVD \n",
    "import time\n",
    "warnings.filterwarnings('ignore')"
   ]
  },
  {
   "cell_type": "code",
   "execution_count": 38,
   "metadata": {},
   "outputs": [],
   "source": [
    "def evalution(y_pre,y_true):\n",
    "    ny_pre = np.asarray(y_pre)\n",
    "    ny_pre[ny_pre==1] = 0\n",
    "    ny_pre[ny_pre==-1] = 1\n",
    "\n",
    "    ny_true = np.asarray(y_true)\n",
    "\n",
    "    class_names = ['normal','dangours']\n",
    "    print(accuracy_score(ny_true,ny_pre))\n",
    "    cnf_matrix = confusion_matrix(ny_true, ny_pre) \n",
    "    print(cnf_matrix)\n",
    "\n",
    "def train(model,X_train,X_valid):\n",
    "    clf=model()\n",
    "    clf.fit(X_train)\n",
    "    y_pre=clf.predict(X_valid)\n",
    "    return clf,y_pre\n",
    "\n",
    "def test(clf,X_test,y_test):\n",
    "    y_pre = clf.predict(X_test)\n",
    "    ny_pre = np.asarray(y_pre)\n",
    "    ny_pre[ny_pre==1] = 0\n",
    "    ny_pre[ny_pre==-1] = 1\n",
    "    ny_test = np.asarray(y_test)\n",
    "    print(accuracy_score(y_test,ny_pre))\n",
    "    cnf_matrix = confusion_matrix(ny_test, ny_pre) \n",
    "    print(cnf_matrix)\n",
    "    return y_pre\n",
    "\n",
    "def FPFN(data,y,y_pre):\n",
    "    print('False positives')\n",
    "    print(data[(y == 0) & (y_pre == 1)])\n",
    "    print('False negatives')\n",
    "    print(data[(y == 1) & (y_pre == 0)])\n",
    "#误报漏报再分析\n",
    "#FPFN(data,y,y_pre)"
   ]
  },
  {
   "cell_type": "code",
   "execution_count": 39,
   "metadata": {},
   "outputs": [],
   "source": [
    "#data\n",
    "good_data=pd.read_csv('normal_100000.csv',names=['url'],nrows=10000)\n",
    "good_data['label']=0\n",
    "bad_data=pd.read_csv('XSS_1000.csv',names=['url'],nrows=1000)\n",
    "bad_data['label']=1\n",
    "data=pd.concat([good_data,bad_data]).reset_index(drop=True)\n",
    "y=data['label']"
   ]
  },
  {
   "cell_type": "code",
   "execution_count": 40,
   "metadata": {},
   "outputs": [],
   "source": [
    "#bad_data=pd.read_csv('bad_url.csv',names=['url'],nrows=100)\n",
    "#bad_data['label']=1\n",
    "#data=pd.concat([good_data,bad_data]).reset_index(drop=True)\n",
    "#y=data['label']"
   ]
  },
  {
   "cell_type": "code",
   "execution_count": 41,
   "metadata": {},
   "outputs": [],
   "source": [
    "#feature\n",
    "X_train, X_valid, y_train, y_valid = train_test_split(data['url'].values.astype('U'), data['label'].values, test_size=0.2, random_state=42) #splitting data\n",
    "vectorizer = TfidfVectorizer(min_df = 0.0, analyzer=\"char\", sublinear_tf=True, ngram_range=(1,3)) #converting data to vectors\n",
    "X_train = vectorizer.fit_transform(X_train)\n",
    "X_valid = vectorizer.transform(X_valid)\n",
    "svd = TruncatedSVD(n_components=10, n_iter=7, random_state=42)\n",
    "X_train=svd.fit_transform(X_train) \n",
    "X_valid=svd.transform(X_valid)"
   ]
  },
  {
   "cell_type": "code",
   "execution_count": 42,
   "metadata": {},
   "outputs": [
    {
     "data": {
      "text/plain": [
       "((8800, 10), (8800,), (2200, 10), (2200,))"
      ]
     },
     "execution_count": 42,
     "metadata": {},
     "output_type": "execute_result"
    }
   ],
   "source": [
    "#dataformat\n",
    "X_train.shape,y_train.shape,X_valid.shape,y_valid.shape"
   ]
  },
  {
   "cell_type": "code",
   "execution_count": 43,
   "metadata": {},
   "outputs": [
    {
     "name": "stdout",
     "output_type": "stream",
     "text": [
      "Time:1.8511710166931152\n",
      "0.5340909090909091\n",
      "[[1037  950]\n",
      " [  75  138]]\n"
     ]
    }
   ],
   "source": [
    "#OneClassSVM\n",
    "starttime=time.time()\n",
    "clf,y_pre=train(OneClassSVM,X_train,X_valid)\n",
    "endtime=time.time()\n",
    "print(\"Time:{}\".format(endtime-starttime))\n",
    "evalution(y_pre,y_valid)"
   ]
  },
  {
   "cell_type": "code",
   "execution_count": 44,
   "metadata": {},
   "outputs": [
    {
     "name": "stdout",
     "output_type": "stream",
     "text": [
      "0.5372380952380953\n",
      "[[10622  9378]\n",
      " [  340   660]]\n"
     ]
    }
   ],
   "source": [
    "#testing\n",
    "bad_data=pd.read_csv('XSS_1000_2.csv',names=['url'])\n",
    "bad_data['label']=1\n",
    "good_data=pd.read_csv('normal_test.csv',names=['url'])\n",
    "good_data['label']=0\n",
    "data=pd.concat([good_data,bad_data]).reset_index(drop=True)\n",
    "X = vectorizer.transform(data['url'].values.astype('U'))\n",
    "X=svd.transform(X) \n",
    "y=data['label'].values\n",
    "y_pre=test(clf,X,y)"
   ]
  },
  {
   "cell_type": "code",
   "execution_count": 45,
   "metadata": {},
   "outputs": [
    {
     "name": "stdout",
     "output_type": "stream",
     "text": [
      "Time:0.511282205581665\n",
      "0.8440909090909091\n",
      "[[1810  177]\n",
      " [ 166   47]]\n"
     ]
    }
   ],
   "source": [
    "#IsolationForest\n",
    "starttime=time.time()\n",
    "clf,y_pre=train(IsolationForest,X_train,X_valid)\n",
    "endtime=time.time()\n",
    "print(\"Time:{}\".format(endtime-starttime))\n",
    "evalution(y_pre,y_valid)"
   ]
  },
  {
   "cell_type": "code",
   "execution_count": 46,
   "metadata": {},
   "outputs": [
    {
     "name": "stdout",
     "output_type": "stream",
     "text": [
      "0.8831428571428571\n",
      "[[18343  1657]\n",
      " [  797   203]]\n"
     ]
    }
   ],
   "source": [
    "#tesing\n",
    "y_pre=test(clf,X,y)"
   ]
  },
  {
   "cell_type": "code",
   "execution_count": 47,
   "metadata": {},
   "outputs": [
    {
     "name": "stdout",
     "output_type": "stream",
     "text": [
      "Time:0.9062089920043945\n",
      "0.8145454545454546\n",
      "[[1770  217]\n",
      " [ 191   22]]\n"
     ]
    }
   ],
   "source": [
    "#LocalOutlierFactor\n",
    "starttime=time.time()\n",
    "clf = LocalOutlierFactor(n_neighbors=20,novelty=True)\n",
    "clf.fit(X_train)\n",
    "y_pre = clf.predict(X_valid)\n",
    "endtime=time.time()\n",
    "print(\"Time:{}\".format(endtime-starttime))\n",
    "evalution(y_pre,y_valid)"
   ]
  },
  {
   "cell_type": "code",
   "execution_count": 48,
   "metadata": {},
   "outputs": [
    {
     "name": "stdout",
     "output_type": "stream",
     "text": [
      "0.859904761904762\n",
      "[[17965  2035]\n",
      " [  907    93]]\n"
     ]
    }
   ],
   "source": [
    "#testing\n",
    "y_pre=test(clf,X,y)"
   ]
  },
  {
   "cell_type": "code",
   "execution_count": null,
   "metadata": {},
   "outputs": [],
   "source": []
  },
  {
   "cell_type": "code",
   "execution_count": null,
   "metadata": {},
   "outputs": [],
   "source": []
  },
  {
   "cell_type": "code",
   "execution_count": null,
   "metadata": {},
   "outputs": [],
   "source": []
  }
 ],
 "metadata": {
  "kernelspec": {
   "display_name": "Python 3",
   "language": "python",
   "name": "python3"
  },
  "language_info": {
   "codemirror_mode": {
    "name": "ipython",
    "version": 3
   },
   "file_extension": ".py",
   "mimetype": "text/x-python",
   "name": "python",
   "nbconvert_exporter": "python",
   "pygments_lexer": "ipython3",
   "version": "3.7.3"
  }
 },
 "nbformat": 4,
 "nbformat_minor": 2
}
